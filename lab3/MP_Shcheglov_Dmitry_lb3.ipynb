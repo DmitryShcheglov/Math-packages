{
 "cells": [
  {
   "cell_type": "markdown",
   "id": "5fd5fd28",
   "metadata": {},
   "source": [
    "# Лабораторная работа №3"
   ]
  },
  {
   "cell_type": "markdown",
   "id": "24fa900e",
   "metadata": {},
   "source": [
    "Щеглов Дмитрий, студент группы №9381, вариант №19"
   ]
  },
  {
   "cell_type": "markdown",
   "id": "cc811730",
   "metadata": {},
   "source": [
    "### Цель работы\n",
    "Практическое применение библиотеки символьных вычислений Python (SymPy) для решения задач дискретной математики и математической логики."
   ]
  },
  {
   "cell_type": "markdown",
   "id": "fe99e45f",
   "metadata": {},
   "source": [
    "### Задачи лабораторной работы\n",
    "\n",
    "1. Решить свой вариант диофантова уравнения.\n",
    "2. Имея открытую часть ключа RSA найти соответствующую закрытую часть и расшифровать кодированное слово.\n",
    "3. Записать в формате ДНФ и КНФ булеву функцию, заданную своим аналитическим выражением."
   ]
  },
  {
   "cell_type": "markdown",
   "id": "e5819b28",
   "metadata": {},
   "source": [
    "### Диофантово уравнение"
   ]
  },
  {
   "cell_type": "markdown",
   "id": "37022c66",
   "metadata": {},
   "source": [
    "Вариант 19. Диофантово уравнение: \n",
    "$$2346x−2507y=161$$"
   ]
  },
  {
   "cell_type": "code",
   "execution_count": 1,
   "id": "941976e4",
   "metadata": {
    "scrolled": true
   },
   "outputs": [
    {
     "name": "stdout",
     "output_type": "stream",
     "text": [
      "x = 109*t_0 + 217\n",
      "y = 102*t_0 + 203 \n"
     ]
    }
   ],
   "source": [
    "from sympy import symbols\n",
    "from sympy.solvers.diophantine import diophantine\n",
    "x, y = symbols('x y')\n",
    "solution = tuple(diophantine(2346*x - 2507*y - 161))[0]\n",
    "print(f\"x = {solution[0]}\\ny = {solution[1]} \")"
   ]
  },
  {
   "cell_type": "markdown",
   "id": "c9623d48",
   "metadata": {},
   "source": [
    "### Имея открытую часть ключа RSA найти соответствующую закрытую часть и расшифровать кодированное слово."
   ]
  },
  {
   "cell_type": "markdown",
   "id": "2369d9d1",
   "metadata": {},
   "source": [
    "Вариант 19\n",
    "\n",
    "Русское слово из четырех букв закодировано при помощи алгоритма RSA открытым ключом (e = 11,m = 33).\n",
    "Шифрованное сообщение имеет вид (32; 9; 28; 12). Подберите закрытую часть ключа и прочитайте исходное слово.\n",
    "Буквам русского алфавита соответсвуют числа в диапазоне от 2 до 32 (исключены буквы “e” и “ъ”)."
   ]
  },
  {
   "cell_type": "code",
   "execution_count": 3,
   "id": "e22f3086",
   "metadata": {},
   "outputs": [
    {
     "name": "stdout",
     "output_type": "stream",
     "text": [
      "язык\n"
     ]
    }
   ],
   "source": [
    "from sympy.crypto.crypto import rsa_private_key, decipher_rsa\n",
    "\n",
    "key = rsa_private_key(33, 11)\n",
    "code = [32, 9, 28, 12]\n",
    "\n",
    "pool = ['а', 'б', 'в', 'г', 'д', 'е', 'ж', 'з', 'и', 'й', 'к', 'л', 'м', 'н', 'о', 'п', 'р', 'с', 'т', 'у', 'ф', 'х', 'ц', 'ч', 'ш', 'щ', 'ы', 'ь', 'э', 'ю', 'я']\n",
    "\n",
    "message = ''\n",
    "for index in code:\n",
    "    message += pool[decipher_rsa(index, key) - 2]\n",
    "    \n",
    "print(message)"
   ]
  },
  {
   "cell_type": "markdown",
   "id": "bb0a06fc",
   "metadata": {},
   "source": [
    "### Записать в формате ДНФ и КНФ булеву функцию, заданную аналитическим выражением."
   ]
  },
  {
   "cell_type": "markdown",
   "id": "976b15b4",
   "metadata": {},
   "source": [
    "Вариант 19. \n",
    "$$f(x, y, z) = ((y xor z) xor (xz)) ∨ (y(y ∨ x))$$ "
   ]
  },
  {
   "cell_type": "code",
   "execution_count": 6,
   "id": "1bab0397",
   "metadata": {},
   "outputs": [
    {
     "name": "stdout",
     "output_type": "stream",
     "text": [
      "ДНФ:  y | (z & ~x)\n",
      "СНФ:  (y | z) & (y | ~x)\n"
     ]
    }
   ],
   "source": [
    "from sympy.logic.boolalg import to_cnf\n",
    "from sympy.logic.boolalg import to_dnf\n",
    "from sympy.abc import x, y, z\n",
    "\n",
    "exp = ((y^z)^(x&z))|(y&(y|x))\n",
    "print('ДНФ: ', to_dnf(exp, True))\n",
    "print('СНФ: ', to_cnf(exp, True))"
   ]
  },
  {
   "cell_type": "markdown",
   "id": "9d980460",
   "metadata": {},
   "source": [
    "### Вывод\n",
    "В ходе выполнения лабораторной работы была изучена библиотека SymPy. Были решены диофантово уравнение, задача декодирования и задача преобразования булевой функции.\n"
   ]
  },
  {
   "cell_type": "code",
   "execution_count": null,
   "id": "8a65aaf6",
   "metadata": {},
   "outputs": [],
   "source": []
  }
 ],
 "metadata": {
  "kernelspec": {
   "display_name": "Python 3 (ipykernel)",
   "language": "python",
   "name": "python3"
  },
  "language_info": {
   "codemirror_mode": {
    "name": "ipython",
    "version": 3
   },
   "file_extension": ".py",
   "mimetype": "text/x-python",
   "name": "python",
   "nbconvert_exporter": "python",
   "pygments_lexer": "ipython3",
   "version": "3.10.1"
  }
 },
 "nbformat": 4,
 "nbformat_minor": 5
}
